{
  "nbformat": 4,
  "nbformat_minor": 0,
  "metadata": {
    "colab": {
      "provenance": [],
      "authorship_tag": "ABX9TyPnLWYKbneCkFBX5Kr9MMdV"
    },
    "kernelspec": {
      "name": "python3",
      "display_name": "Python 3"
    },
    "language_info": {
      "name": "python"
    }
  },
  "cells": [
    {
      "cell_type": "code",
      "execution_count": null,
      "metadata": {
        "id": "RIE4XaCRroQO"
      },
      "outputs": [],
      "source": [
        "import requests #Library for fetching data from API\n",
        "import pandas as pd\n",
        "import numpy as np\n",
        "from sklearn.model_selection import train_test_split\n",
        "from sklearn.preprocessing import LabelEncoder #To convert categorical data into numerical values\n",
        "from sklearn.ensemble import RandomForestClassifier, RandomForestRegressor\n",
        "from sklearn.metrics import mean_squared_error\n",
        "from datetime import datetime, timedelta #To handle date and time\n",
        "import pytz"
      ]
    },
    {
      "cell_type": "code",
      "source": [
        "from dotenv import load_dotenv\n",
        "import os\n",
        "load_dotenv()\n",
        "\n",
        "API_KEY = os.getenv('API_KEY')\n",
        "BASE_URL = 'https://api.openweathermap.org/data/2.5/'\n"
      ],
      "metadata": {
        "id": "5mDDLdxmu5KD"
      },
      "execution_count": 2,
      "outputs": []
    },
    {
      "cell_type": "markdown",
      "source": [
        "# **Fetch Current Weather**"
      ],
      "metadata": {
        "id": "PTiIDXVtwi1B"
      }
    },
    {
      "cell_type": "code",
      "source": [
        "def get_current_weather(city):\n",
        "  url = f\"{BASE_URL}weather?q={city}&appid={API_KEY}&units=metric\" #API Request URL\n",
        "  response = requests.get(url)\n",
        "  data = response.json()\n",
        "  return{\n",
        "      'city' : data['name'],\n",
        "      'current_temperature' : round(data['main']['temp']),\n",
        "      'feels_like' : round(data['main']['feels_like']),\n",
        "      'temp_min' : round(data['main']['temp_min']),\n",
        "      'temp_max' : round(data['main']['temp_max']),\n",
        "      'humidity' : round(data['main']['humidity']),\n",
        "      'description' : data['weather'][0]['description'],\n",
        "      'country' : data['sys']['country'],\n",
        "      'wind_gust_dir' : data['wind']['deg'],\n",
        "      'pressure' : data['main']['pressure'],\n",
        "      'Wind_Gust_Speed' : data['wind']['speed']\n",
        "  }\n"
      ],
      "metadata": {
        "id": "FWrXr8alvHXq"
      },
      "execution_count": null,
      "outputs": []
    },
    {
      "cell_type": "markdown",
      "source": [
        "# **Read Historical Data**"
      ],
      "metadata": {
        "id": "-GaFeteBwpva"
      }
    },
    {
      "cell_type": "code",
      "source": [
        "def read_historical_data(filename):\n",
        "  df = pd.read_csv(filename)\n",
        "  df = df.dropna()\n",
        "  df = df.drop_duplicates()\n",
        "  # df['date'] = pd.to_datetime(df['date'])\n",
        "  return df"
      ],
      "metadata": {
        "id": "6CRUTFsbwtGN"
      },
      "execution_count": null,
      "outputs": []
    },
    {
      "cell_type": "markdown",
      "source": [
        "# **Prepare data for training**"
      ],
      "metadata": {
        "id": "kvVV6aL0xuMv"
      }
    },
    {
      "cell_type": "code",
      "source": [
        "def prepare_data(data):\n",
        "  le = LabelEncoder() #Create a label encoder\n",
        "  data['WindGustDir'] = le.fit_transform(data['WindGustDir'])\n",
        "  data['RainTomorrow'] = le.fit_transform(data['RainTomorrow'])\n",
        "\n",
        "  X = data[['MinTemp', 'MaxTemp', 'WindGustDir', 'WindGustSpeed','Humidity', 'Pressure', 'Temp']] #Feature Variable\n",
        "  y = data['RainTomorrow'] #Target Variable\n",
        "\n",
        "  return X, y, le"
      ],
      "metadata": {
        "id": "2pgrId9CxxPx"
      },
      "execution_count": null,
      "outputs": []
    },
    {
      "cell_type": "markdown",
      "source": [
        "# **Train Prediction Model**"
      ],
      "metadata": {
        "id": "EQ9QTRBsN35s"
      }
    },
    {
      "cell_type": "code",
      "source": [
        "def train_rain_model(X, y):\n",
        "  X_train, X_test, y_train, y_test = train_test_split(X, y, test_size=0.2, random_state=42)\n",
        "  model = RandomForestClassifier(n_estimators=100, random_state = 42)\n",
        "  model.fit(X_train, y_train) #Training the model\n",
        "\n",
        "  y_pred = model.predict(X_test)\n",
        "\n",
        "  accuracy = mean_squared_error(y_test, y_pred)\n",
        "  print(f\"Mean Squared Error for rain model: {accuracy}\")\n",
        "\n",
        "  return model"
      ],
      "metadata": {
        "id": "97kT6CyBN7wB"
      },
      "execution_count": null,
      "outputs": []
    },
    {
      "cell_type": "markdown",
      "source": [
        "# **Prepare Regression Data**"
      ],
      "metadata": {
        "id": "PtWKnp9tP7Jp"
      }
    },
    {
      "cell_type": "code",
      "source": [
        "def prepare_regreession_data(data, feature):\n",
        "  X, y = [], [] #Lists for feature and target values\n",
        "\n",
        "  for i in range(len(data) - 1):\n",
        "    X.append(data[feature].iloc[i])\n",
        "\n",
        "    y.append(data[feature].iloc[i + 1])\n",
        "\n",
        "  X = np.array(X).reshape(-1, 1)\n",
        "  y = np.array(y)\n",
        "  return X, y"
      ],
      "metadata": {
        "id": "RxIb-VQKP9xV"
      },
      "execution_count": null,
      "outputs": []
    },
    {
      "cell_type": "markdown",
      "source": [
        "# **Train Regression Model**"
      ],
      "metadata": {
        "id": "J_IeWXkSRWnE"
      }
    },
    {
      "cell_type": "code",
      "source": [
        "def train_regression_model(X, y):\n",
        "  model = RandomForestRegressor(n_estimators=100, random_state=42)\n",
        "  model.fit(X, y) #Train the model\n",
        "\n",
        "  return model"
      ],
      "metadata": {
        "id": "H_8rcZOxRwMy"
      },
      "execution_count": null,
      "outputs": []
    },
    {
      "cell_type": "markdown",
      "source": [
        "# **Predict Future**"
      ],
      "metadata": {
        "id": "LArymga_SKRH"
      }
    },
    {
      "cell_type": "code",
      "source": [
        "def predict_future(model, current_value):\n",
        "  predictions = [current_value]\n",
        "\n",
        "  for i in range(5):\n",
        "    next_value = model.predict(np.array([[predictions[-1]]]))\n",
        "\n",
        "    predictions.append(next_value[0])\n",
        "\n",
        "  return predictions[1:]\n"
      ],
      "metadata": {
        "id": "ilyuahQ4SMOh"
      },
      "execution_count": null,
      "outputs": []
    },
    {
      "cell_type": "markdown",
      "source": [
        "# **Weather Analysis Function**"
      ],
      "metadata": {
        "id": "xCznQ9HfSxCG"
      }
    },
    {
      "cell_type": "code",
      "source": [
        "def weather_view():\n",
        "  city = input(\"Enter any city name: \")\n",
        "  current_weather = get_current_weather(city)\n",
        "\n",
        "  #load historical data\n",
        "  historical_data = read_historical_data('/content/weather.csv')\n",
        "\n",
        "  #prepare and train the rain prediction model\n",
        "  X, y, le = prepare_data(historical_data)\n",
        "\n",
        "  rain_model = train_rain_model(X, y)\n",
        "\n",
        "  #Map wind direction to compass points(because the API provides numerical values only)\n",
        "\n",
        "  wind_deg = current_weather['wind_gust_dir'] % 360\n",
        "  compass_points = [\n",
        "      (\"N\", 0, 11.25), (\"NNE\", 11.25, 33.75), (\"NE\", 33.75, 56.25), (\"ENE\", 56.25, 78.75),\n",
        "      (\"E\", 78.75, 101.25), (\"ESE\", 101.25, 123.75), (\"SE\", 123.75, 146.25), (\"SSE\",146.25, 168.75),\n",
        "      (\"S\", 168.75, 191.25), (\"SSW\", 191.25, 213.75), (\"SW\", 213.75, 236.25), (\"WSW\", 236.25, 258.75),\n",
        "      (\"W\", 258.75, 281.25), (\"WNW\", 281.25, 303.75), (\"NW\", 303.75, 326.25), (\"NNW\", 326.25, 348.75)\n",
        "  ]\n",
        "  compass_direction = next(direction for direction, start, end in compass_points if start <= wind_deg < end)\n",
        "\n",
        "  compass_direction_encoded = le.transform([compass_direction])[0] if compass_direction in le.classes_ else -1\n",
        "\n",
        "\n",
        "  current_data = {\n",
        "      'MinTemp' : current_weather['temp_min'],\n",
        "      'MaxTemp' : current_weather['temp_max'],\n",
        "      'WindGustDir' : compass_direction_encoded,\n",
        "      'WindGustSpeed' : current_weather['Wind_Gust_Speed'],\n",
        "      'Humidity' : current_weather['humidity'],\n",
        "      'Pressure' : current_weather['pressure'],\n",
        "      'Temp' : current_weather['current_temperature']\n",
        "  }\n",
        "\n",
        "  current_df = pd.DataFrame([current_data])\n",
        "\n",
        "  #Rain Prediction\n",
        "\n",
        "  rain_prediction = rain_model.predict(current_df)[0]\n",
        "\n",
        "  #Prepare regression model for temperature and humididty\n",
        "\n",
        "  X_temp, y_temp = prepare_regreession_data(historical_data, 'Temp')\n",
        "  X_hum, y_hum = prepare_regreession_data(historical_data, 'Humidity')\n",
        "\n",
        "  temp_model = train_regression_model(X_temp, y_temp)\n",
        "  hum_model = train_regression_model(X_hum, y_hum)\n",
        "\n",
        "  #Predict future temperature and Himidity\n",
        "\n",
        "  future_temp = predict_future(temp_model, current_weather['temp_min'])\n",
        "\n",
        "  future_hum = predict_future(hum_model, current_weather['humidity'])\n",
        "\n",
        "  #Prepare time for future predictions\n",
        "  timezone = pytz.timezone('Asia/Kolkata')\n",
        "  now = datetime.now(timezone)\n",
        "  next_hour = now + timedelta(hours=1)\n",
        "  next_hour = next_hour.replace(minute=0, second=0, microsecond=0)\n",
        "\n",
        "  future_times = [(next_hour + timedelta(hours=i)).strftime(\"%H:00\") for i in range(5)]\n",
        "\n",
        "  #Display results\n",
        "\n",
        "  print(f\"City: {city}, {current_weather['country']}\")\n",
        "  print(f\"Current Temperature: {current_weather['current_temperature']}°C\")\n",
        "  print(f\"Feels Like: {current_weather['feels_like']}°C\")\n",
        "  print(f\"Minimum Temperature: {current_weather['temp_min']}°C\")\n",
        "  print(f\"Maximum Temperature: {current_weather['temp_max']}°C\")\n",
        "  print(f\"Humidity: {current_weather['humidity']}%\")\n",
        "  print(f\"Weather Prediction: {current_weather['description']}\")\n",
        "  print(f\"Rain Prediction: {'Yes' if rain_prediction else 'No'}\")\n",
        "\n",
        "  print(\"\\n Future Temperature Predictions:\")\n",
        "\n",
        "  for time, temp in zip(future_times, future_temp):\n",
        "    print(f\"At {time}: {round(temp, 1)}°C\")\n",
        "\n",
        "  print(\"\\n Future Humidity Predictions:\")\n",
        "\n",
        "  for time, humidity in zip(future_times, future_hum):\n",
        "    print(f\"At {time}: {round(humidity, 1)}%\")\n",
        "\n",
        "\n",
        "weather_view()\n"
      ],
      "metadata": {
        "colab": {
          "base_uri": "https://localhost:8080/"
        },
        "id": "Dq4DNNd4S0a4",
        "outputId": "681a4821-6c71-4f45-e092-e75b98aa8768"
      },
      "execution_count": null,
      "outputs": [
        {
          "output_type": "stream",
          "name": "stdout",
          "text": [
            "Enter any city name: Bangalore\n",
            "Mean Squared Error for rain model: 0.1506849315068493\n",
            "City: Bangalore, IN\n",
            "Current Temperature: 28°C\n",
            "Feels Like: 30°C\n",
            "Minimum Temperature: 28°C\n",
            "Maximum Temperature: 29°C\n",
            "Humidity: 61%\n",
            "Weather Prediction: overcast clouds\n",
            "Rain Prediction: Yes\n",
            "\n",
            " Future Temperature Predictions:\n",
            "At 18:00: 27.7°C\n",
            "At 19:00: 22.8°C\n",
            "At 20:00: 25.4°C\n",
            "At 21:00: 24.7°C\n",
            "At 22:00: 23.4°C\n",
            "\n",
            " Future Humidity Predictions:\n",
            "At 18:00: 58.3%\n",
            "At 19:00: 54.2%\n",
            "At 20:00: 58.1%\n",
            "At 21:00: 54.2%\n",
            "At 22:00: 58.1%\n"
          ]
        }
      ]
    }
  ]
}